{
 "cells": [
  {
   "cell_type": "code",
   "execution_count": 11,
   "id": "34f2ab73-fa2a-428f-b454-e2bdfb74dc86",
   "metadata": {},
   "outputs": [],
   "source": [
    "def cp_tagsets():\n",
    "    import os\n",
    "    packages_l = []\n",
    "    # packages_l = [\"wrapt\", \"attrs\", \"fsspec\", \"MarkupSafe\", \"grpcio-status\", \"cffi\"]\n",
    "    # packages_l = [\"wrapt\", \"attrs\", \"fsspec\", \"MarkupSafe\", \"grpcio-status\", \"cffi\", \"click\", \"PyJWT\", \"pytz\", \"pyasn1\"]\n",
    "    packages_l_0 = [\"s3fs\", \"yarl\", \"psutil\", \"tomli\", \"isodate\", \"jsonschema\", \"grpcio\", \"soupsieve\", \"frozenlist\", \"cachetools\", \"botocore\", \"awscli\", \"pyyaml\", \"rsa\", \"s3transfer\", \"urllib3\", \"setuptools\", \"typing-extensions\", \"charset-normalizer\", \"idna\", \"python-dateutil\", \"google-api-core\", \"cryptography\", \"importlib-metadata\", \"emoji\", \"Flask\", \"seaborn\", \"NLTK\", \"pytest\", \"zipp\" ]\n",
    "    packages_l_0_5 = [\"authlib\", \"pycparser\", \"colorama\", \"oauthlib\", \"pandas\", \"pillow\", \"matplotlib\", \"scipy\", \"boto3\", \"cmake\", \"nvidia-cuda-nvrtc-cu11\", \"jinja2\", \"nvidia-cuda-runtime-cu11\", \"wheel\", \"triton==2.0.0\", \"scikit-learn\"]\n",
    "    packages_l_1 = [\"requests\", \"Scrapy\", \"six\", \"opencv-python\", \"simplejson\", \"opacus\", \"redis\", \"astropy\", \"biopython\", \"bokeh\", \"dask\", \"deap\", \"pyspark\", \"nilearn\"]\n",
    "    packages_l_2 = [\"networkx\", \"SQLAlchemy\", \"scikit-image\", \"scoop\", \"Theano\", \"beautifulsoup4\", \"Scrapy\", \"plotly\", \"pycaret\",\"mahotas\",\"statsmodels\"]\n",
    "    packages_l.extend(packages_l_0)\n",
    "    packages_l.extend(packages_l_0_5)\n",
    "    packages_l.extend(packages_l_1)\n",
    "    packages_l.extend(packages_l_2)\n",
    "    from itertools import combinations\n",
    "    # for length in range(1, len(packages_l)+1):\n",
    "    count = 0\n",
    "    for length in range(1,2):  # choose `length` amount of packages\n",
    "        for package_names in combinations(packages_l, length):\n",
    "            # print(package_names)\n",
    "            dirname = os.getcwd()\n",
    "            # dirname = ''\n",
    "            # dirname += \"/loaded_data\"\n",
    "            dirname = '/mnt/c/Users/lisak/Downloads/data'                                     ###\n",
    "            # out_dirname = dirname\n",
    "            target_dir_train = os.getcwd() + \"/taggen_base_image/temp_70_sl\"\n",
    "            # target_dir_test = os.getcwd() + \"/taggen_base_image/post_test\"\n",
    "            out_dirname = dirname+\"/data/\"+\"-\".join(package_names)+'-'+\"tagsets/\"\n",
    "            # print(out_dirname)\n",
    "            # print(out_dirname)\n",
    "            # print(os.path.exists(out_dirname))\n",
    "            if (os.path.exists(out_dirname)):\n",
    "                count += 1\n",
    "                spec_count = 0\n",
    "                tagsets_l = [name for name in os.listdir(out_dirname) if os.path.isfile(out_dirname+name)]\n",
    "                # print(tagsets_l)\n",
    "                # print(tagsets_l)\n",
    "                # if len(tagsets_l) == 2:\n",
    "                for tagsets_name in tagsets_l:\n",
    "                    # print(out_dirname+tagsets_name, target_dir+\"/\" +tagsets_name)\n",
    "                    # if (os.path.exists(out_dirname+tagsets_name)) and (spec_count < 2):\n",
    "                    #     # print('1',tagsets_name)\n",
    "                    #     os.popen('cp {0} {1}'.format(out_dirname+tagsets_name, target_dir_test +\"/\"+tagsets_name))\n",
    "                    #     # shutil.copy2(out_dirname+tagsets_name, '/home/cc/Praxi-study/praxi/demos/ic2e_demo/demo_tagsets/mix_test_tag/'))\n",
    "                    if (os.path.exists(out_dirname+tagsets_name)) and (spec_count < 32):\n",
    "                        # print('2',tagsets_name)\n",
    "                        os.popen('cp {0} {1}'.format(out_dirname+tagsets_name, target_dir_train +\"/\"+tagsets_name))\n",
    "                        # print(tagsets_name)\n",
    "                    spec_count +=1\n",
    "                print(spec_count)\n",
    "                \n",
    "\n",
    "    print(count)"
   ]
  },
  {
   "cell_type": "code",
   "execution_count": 12,
   "id": "b9336169-adcd-49e4-a196-b6ba9add8075",
   "metadata": {
    "jupyter": {
     "source_hidden": true
    },
    "scrolled": true
   },
   "outputs": [
    {
     "name": "stdout",
     "output_type": "stream",
     "text": [
      "47\n",
      "47\n",
      "47\n",
      "47\n",
      "47\n",
      "47\n",
      "48\n",
      "47\n",
      "47\n",
      "47\n",
      "47\n",
      "47\n",
      "47\n",
      "47\n",
      "47\n",
      "47\n",
      "47\n",
      "47\n",
      "47\n",
      "47\n",
      "47\n",
      "47\n",
      "47\n",
      "47\n",
      "47\n",
      "47\n",
      "47\n",
      "47\n",
      "47\n",
      "47\n",
      "47\n",
      "47\n",
      "47\n",
      "47\n",
      "37\n",
      "34\n",
      "54\n",
      "35\n",
      "34\n",
      "35\n",
      "34\n",
      "33\n",
      "33\n",
      "33\n",
      "33\n",
      "33\n",
      "34\n",
      "57\n",
      "34\n",
      "34\n",
      "34\n",
      "34\n",
      "34\n",
      "34\n",
      "34\n",
      "34\n",
      "34\n",
      "34\n",
      "34\n",
      "34\n",
      "34\n",
      "34\n",
      "34\n",
      "34\n",
      "34\n",
      "34\n",
      "57\n",
      "34\n",
      "34\n",
      "0\n",
      "34\n",
      "71\n"
     ]
    }
   ],
   "source": [
    "cp_tagsets()"
   ]
  },
  {
   "cell_type": "code",
   "execution_count": 5,
   "id": "0f1d2116-35f7-4440-9f0f-a16eacfa71b0",
   "metadata": {
    "scrolled": true
   },
   "outputs": [
    {
     "name": "stdout",
     "output_type": "stream",
     "text": [
      "/root/Praxi-Pipeline\n",
      "8700\n"
     ]
    }
   ],
   "source": [
    "import os\n",
    "print(os.getcwd())\n",
    "print(len(os.listdir('/root/Praxi-Pipeline/taggen_base_image/30_ml')))"
   ]
  },
  {
   "cell_type": "code",
   "execution_count": null,
   "id": "486760bc-3bc0-4842-bb94-ceb50819cd05",
   "metadata": {},
   "outputs": [],
   "source": []
  }
 ],
 "metadata": {
  "kernelspec": {
   "display_name": "Python 3 (ipykernel)",
   "language": "python",
   "name": "python3"
  },
  "language_info": {
   "codemirror_mode": {
    "name": "ipython",
    "version": 3
   },
   "file_extension": ".py",
   "mimetype": "text/x-python",
   "name": "python",
   "nbconvert_exporter": "python",
   "pygments_lexer": "ipython3",
   "version": "3.10.10"
  }
 },
 "nbformat": 4,
 "nbformat_minor": 5
}
